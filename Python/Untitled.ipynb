{
 "cells": [
  {
   "cell_type": "code",
   "execution_count": 1,
   "id": "0be55c33",
   "metadata": {},
   "outputs": [
    {
     "name": "stdout",
     "output_type": "stream",
     "text": [
      "this is great\n"
     ]
    }
   ],
   "source": [
    "print(\"this is great\") "
   ]
  },
  {
   "cell_type": "code",
   "execution_count": 6,
   "id": "89d94964",
   "metadata": {},
   "outputs": [
    {
     "name": "stdout",
     "output_type": "stream",
     "text": [
      "0  = 0b0\n",
      "1  = 0b1\n",
      "2  = 0b10\n",
      "3  = 0b11\n",
      "4  = 0b100\n",
      "5  = 0b101\n",
      "6  = 0b110\n",
      "7  = 0b111\n",
      "8  = 0b1000\n",
      "9  = 0b1001\n"
     ]
    }
   ],
   "source": [
    "for i in range(10):\n",
    "    print(i, \" =\", bin(i)) "
   ]
  }
 ],
 "metadata": {
  "kernelspec": {
   "display_name": "Python 3",
   "language": "python",
   "name": "python3"
  },
  "language_info": {
   "codemirror_mode": {
    "name": "ipython",
    "version": 3
   },
   "file_extension": ".py",
   "mimetype": "text/x-python",
   "name": "python",
   "nbconvert_exporter": "python",
   "pygments_lexer": "ipython3",
   "version": "3.8.3"
  }
 },
 "nbformat": 4,
 "nbformat_minor": 5
}
